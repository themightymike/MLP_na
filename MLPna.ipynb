{
 "cells": [
  {
   "cell_type": "code",
   "execution_count": 1,
   "metadata": {},
   "outputs": [],
   "source": [
    "import warnings\n",
    "#warnings.filterwarnings('always')  # \"error\", \"ignore\", \"always\", \"default\", \"module\" or \"once\"\n",
    "warnings.filterwarnings('ignore')"
   ]
  },
  {
   "cell_type": "code",
   "execution_count": 2,
   "metadata": {},
   "outputs": [],
   "source": [
    "import os\n",
    "import re\n",
    "import time\n",
    "import random\n",
    "import numpy as np\n",
    "import pandas as pd\n",
    "import itertools\n",
    "import matplotlib.pyplot as plt\n",
    "import scikitplot as skplt\n",
    "from IPython.display import display, Markdown\n",
    "from tensorflow import keras\n",
    "from tensorflow.keras.layers import Dense\n",
    "from tensorflow.compat import v1 as tf_compat_v1\n",
    "from sklearn import preprocessing, metrics\n",
    "from sklearn.utils import shuffle\n",
    "from sklearn.model_selection import train_test_split"
   ]
  },
  {
   "cell_type": "code",
   "execution_count": 3,
   "metadata": {},
   "outputs": [],
   "source": [
    "atacks = ['Normal', 'SYN_Flooding', 'ACK_Flooding', 'Port_Scanning', 'OS_Version_Detection', 'HTTP_Flooding', 'Telnet_Bruteforce', 'UDP_Flooding']#]\n",
    "packets=r'D:/Документы/Нейронки/perceptron/packets'\n",
    "new_packets=r'D:/Документы/Нейронки/perceptron/packets_new'"
   ]
  },
  {
   "cell_type": "markdown",
   "metadata": {},
   "source": [
    "    Устанавливаем восстанавливаемые значения"
   ]
  },
  {
   "cell_type": "code",
   "execution_count": 4,
   "metadata": {},
   "outputs": [
    {
     "name": "stdout",
     "output_type": "stream",
     "text": [
      "WARNING:tensorflow:From d:\\python 3.8\\oii_perceptron\\lib\\site-packages\\tensorflow\\python\\util\\module_wrapper.py:49: The name tf.keras.backend.set_session is deprecated. Please use tf.compat.v1.keras.backend.set_session instead.\n",
      "\n"
     ]
    }
   ],
   "source": [
    "seed_value= 0\n",
    "# 1. Set `PYTHONHASHSEED` environment variable at a fixed value\n",
    "os.environ['PYTHONHASHSEED']=str(seed_value)\n",
    "# 2. Set `python` built-in pseudo-random generator at a fixed value\n",
    "random.seed(seed_value)\n",
    "# 3. Set `numpy` pseudo-random generator at a fixed value\n",
    "np.random.seed(seed_value)\n",
    "# 4. Set the `tensorflow` pseudo-random generator at a fixed value\n",
    "tf_compat_v1.set_random_seed(seed_value)\n",
    "# 5. Configure a new global `tensorflow` session\n",
    "session_conf = tf_compat_v1.ConfigProto(intra_op_parallelism_threads=1, inter_op_parallelism_threads=1)\n",
    "sess = tf_compat_v1.Session(graph=tf_compat_v1.get_default_graph(), config=session_conf)\n",
    "tf_compat_v1.keras.backend.set_session(sess)"
   ]
  },
  {
   "cell_type": "markdown",
   "metadata": {},
   "source": [
    "    Работа с датасетом"
   ]
  },
  {
   "cell_type": "code",
   "execution_count": 5,
   "metadata": {},
   "outputs": [],
   "source": [
    "def num_pack_atack(data: pd.DataFrame) -> list:\n",
    "    cat_count = list()\n",
    "    for cat in set(data.category):\n",
    "        cat_count.append([cat, (data.category == cat).astype(int).sum()])\n",
    "    for cat in cat_count:\n",
    "        print(cat[0],':',cat[1])\n",
    "    print('Total packages :', len(data))\n",
    "    type_of_attack = [cat[0] for cat in cat_count]\n",
    "    return type_of_attack\n",
    "\n",
    "def load_dataset(packets: str):\n",
    "    dfs = list()\n",
    "    with os.scandir(packets) as it:\n",
    "        for entry in it:\n",
    "            if entry.name.endswith('.csv') and entry.is_file():\n",
    "                cat = re.findall(r'-([^-]*?).csv', entry.name)[0]\n",
    "                \n",
    "                if cat not in atacks or (cat == 'Normal' and 'benign' not in entry.name):\n",
    "                    continue\n",
    "                dfs.append(pd.read_csv(entry.path))\n",
    "                dfs[-1] = dfs[-1].join(pd.DataFrame(np.full([len(dfs[-1])], cat), columns=['category']))\n",
    "    data = pd.concat(dfs)\n",
    "    data = data.replace('Infinity', np.nan).replace('NaN', np.nan).replace([np.inf, -np.inf], np.nan)    \n",
    "    type_of_attack = num_pack_atack(data)\n",
    "    print()    \n",
    "    data = data.drop(columns=[c for c in data.columns if c.endswith('.sum')])\n",
    "    data = data.drop(columns=[c for c in data.columns if 'port' in c and 'std' not in c])\n",
    "    data = data.where(pd.notna(data['proto'])).dropna(how='all')\n",
    "    data.index = range(len(data))\n",
    "    data = data.fillna(0.0)   \n",
    "    return data, type_of_attack"
   ]
  },
  {
   "cell_type": "code",
   "execution_count": 6,
   "metadata": {},
   "outputs": [
    {
     "name": "stdout",
     "output_type": "stream",
     "text": [
      "Port_Scanning : 15845\n",
      "Telnet_Bruteforce : 163\n",
      "ACK_Flooding : 30892\n",
      "UDP_Flooding : 2\n",
      "HTTP_Flooding : 3622\n",
      "SYN_Flooding : 59442\n",
      "Normal : 372\n",
      "OS_Version_Detection : 424\n",
      "Total packages : 110762\n",
      "\n"
     ]
    }
   ],
   "source": [
    "data, type_attack = load_dataset(packets)"
   ]
  },
  {
   "cell_type": "code",
   "execution_count": 7,
   "metadata": {},
   "outputs": [
    {
     "data": {
      "text/html": [
       "<div>\n",
       "<style scoped>\n",
       "    .dataframe tbody tr th:only-of-type {\n",
       "        vertical-align: middle;\n",
       "    }\n",
       "\n",
       "    .dataframe tbody tr th {\n",
       "        vertical-align: top;\n",
       "    }\n",
       "\n",
       "    .dataframe thead th {\n",
       "        text-align: right;\n",
       "    }\n",
       "</style>\n",
       "<table border=\"1\" class=\"dataframe\">\n",
       "  <thead>\n",
       "    <tr style=\"text-align: right;\">\n",
       "      <th></th>\n",
       "      <th>ip.flags.rb.mean</th>\n",
       "      <th>ip.flags.df.mean</th>\n",
       "      <th>ip.flags.mf.mean</th>\n",
       "      <th>tcp.flags.res.mean</th>\n",
       "      <th>tcp.flags.ns.mean</th>\n",
       "      <th>tcp.flags.cwr.mean</th>\n",
       "      <th>tcp.flags.ecn.mean</th>\n",
       "      <th>tcp.flags.urg.mean</th>\n",
       "      <th>tcp.flags.ack.mean</th>\n",
       "      <th>tcp.flags.push.mean</th>\n",
       "      <th>...</th>\n",
       "      <th>tcp.window_size_value.mean</th>\n",
       "      <th>count</th>\n",
       "      <th>duration</th>\n",
       "      <th>int.std</th>\n",
       "      <th>int.min</th>\n",
       "      <th>int.max</th>\n",
       "      <th>int.mean</th>\n",
       "      <th>prate</th>\n",
       "      <th>proto</th>\n",
       "      <th>category</th>\n",
       "    </tr>\n",
       "  </thead>\n",
       "  <tbody>\n",
       "    <tr>\n",
       "      <th>0</th>\n",
       "      <td>0.0</td>\n",
       "      <td>0.999955</td>\n",
       "      <td>0.0</td>\n",
       "      <td>0.000045</td>\n",
       "      <td>0.000023</td>\n",
       "      <td>0.000023</td>\n",
       "      <td>0.000023</td>\n",
       "      <td>0.000045</td>\n",
       "      <td>0.99991</td>\n",
       "      <td>0.158968</td>\n",
       "      <td>...</td>\n",
       "      <td>11282.7179</td>\n",
       "      <td>44229.0</td>\n",
       "      <td>105.413098</td>\n",
       "      <td>0.01</td>\n",
       "      <td>0.000067</td>\n",
       "      <td>0.159526</td>\n",
       "      <td>0.002383</td>\n",
       "      <td>419.568354</td>\n",
       "      <td>6.0</td>\n",
       "      <td>Normal</td>\n",
       "    </tr>\n",
       "    <tr>\n",
       "      <th>1</th>\n",
       "      <td>0.0</td>\n",
       "      <td>1.000000</td>\n",
       "      <td>0.0</td>\n",
       "      <td>1.000000</td>\n",
       "      <td>0.000000</td>\n",
       "      <td>1.000000</td>\n",
       "      <td>1.000000</td>\n",
       "      <td>1.000000</td>\n",
       "      <td>1.00000</td>\n",
       "      <td>1.000000</td>\n",
       "      <td>...</td>\n",
       "      <td>2005.0000</td>\n",
       "      <td>1.0</td>\n",
       "      <td>0.050493</td>\n",
       "      <td>0.00</td>\n",
       "      <td>0.050493</td>\n",
       "      <td>0.050493</td>\n",
       "      <td>0.050493</td>\n",
       "      <td>19.804725</td>\n",
       "      <td>6.0</td>\n",
       "      <td>Normal</td>\n",
       "    </tr>\n",
       "    <tr>\n",
       "      <th>2</th>\n",
       "      <td>0.0</td>\n",
       "      <td>1.000000</td>\n",
       "      <td>0.0</td>\n",
       "      <td>1.000000</td>\n",
       "      <td>0.000000</td>\n",
       "      <td>0.000000</td>\n",
       "      <td>0.000000</td>\n",
       "      <td>0.000000</td>\n",
       "      <td>0.00000</td>\n",
       "      <td>0.000000</td>\n",
       "      <td>...</td>\n",
       "      <td>62522.0000</td>\n",
       "      <td>1.0</td>\n",
       "      <td>0.000652</td>\n",
       "      <td>0.00</td>\n",
       "      <td>0.000652</td>\n",
       "      <td>0.000652</td>\n",
       "      <td>0.000652</td>\n",
       "      <td>1533.742331</td>\n",
       "      <td>6.0</td>\n",
       "      <td>Normal</td>\n",
       "    </tr>\n",
       "    <tr>\n",
       "      <th>3</th>\n",
       "      <td>0.0</td>\n",
       "      <td>1.000000</td>\n",
       "      <td>0.0</td>\n",
       "      <td>0.000000</td>\n",
       "      <td>0.000000</td>\n",
       "      <td>0.000000</td>\n",
       "      <td>0.000000</td>\n",
       "      <td>0.000000</td>\n",
       "      <td>1.00000</td>\n",
       "      <td>0.000000</td>\n",
       "      <td>...</td>\n",
       "      <td>1869.0000</td>\n",
       "      <td>1.0</td>\n",
       "      <td>0.000080</td>\n",
       "      <td>0.00</td>\n",
       "      <td>0.000080</td>\n",
       "      <td>0.000080</td>\n",
       "      <td>0.000080</td>\n",
       "      <td>12500.000000</td>\n",
       "      <td>6.0</td>\n",
       "      <td>Normal</td>\n",
       "    </tr>\n",
       "    <tr>\n",
       "      <th>4</th>\n",
       "      <td>0.0</td>\n",
       "      <td>1.000000</td>\n",
       "      <td>0.0</td>\n",
       "      <td>0.000000</td>\n",
       "      <td>0.000000</td>\n",
       "      <td>0.000000</td>\n",
       "      <td>0.000000</td>\n",
       "      <td>0.000000</td>\n",
       "      <td>0.00000</td>\n",
       "      <td>0.000000</td>\n",
       "      <td>...</td>\n",
       "      <td>0.0000</td>\n",
       "      <td>1.0</td>\n",
       "      <td>0.000291</td>\n",
       "      <td>0.00</td>\n",
       "      <td>0.000291</td>\n",
       "      <td>0.000291</td>\n",
       "      <td>0.000291</td>\n",
       "      <td>3436.426117</td>\n",
       "      <td>6.0</td>\n",
       "      <td>Normal</td>\n",
       "    </tr>\n",
       "  </tbody>\n",
       "</table>\n",
       "<p>5 rows × 58 columns</p>\n",
       "</div>"
      ],
      "text/plain": [
       "   ip.flags.rb.mean  ip.flags.df.mean  ip.flags.mf.mean  tcp.flags.res.mean  \\\n",
       "0               0.0          0.999955               0.0            0.000045   \n",
       "1               0.0          1.000000               0.0            1.000000   \n",
       "2               0.0          1.000000               0.0            1.000000   \n",
       "3               0.0          1.000000               0.0            0.000000   \n",
       "4               0.0          1.000000               0.0            0.000000   \n",
       "\n",
       "   tcp.flags.ns.mean  tcp.flags.cwr.mean  tcp.flags.ecn.mean  \\\n",
       "0           0.000023            0.000023            0.000023   \n",
       "1           0.000000            1.000000            1.000000   \n",
       "2           0.000000            0.000000            0.000000   \n",
       "3           0.000000            0.000000            0.000000   \n",
       "4           0.000000            0.000000            0.000000   \n",
       "\n",
       "   tcp.flags.urg.mean  tcp.flags.ack.mean  tcp.flags.push.mean  ...  \\\n",
       "0            0.000045             0.99991             0.158968  ...   \n",
       "1            1.000000             1.00000             1.000000  ...   \n",
       "2            0.000000             0.00000             0.000000  ...   \n",
       "3            0.000000             1.00000             0.000000  ...   \n",
       "4            0.000000             0.00000             0.000000  ...   \n",
       "\n",
       "   tcp.window_size_value.mean    count    duration  int.std   int.min  \\\n",
       "0                  11282.7179  44229.0  105.413098     0.01  0.000067   \n",
       "1                   2005.0000      1.0    0.050493     0.00  0.050493   \n",
       "2                  62522.0000      1.0    0.000652     0.00  0.000652   \n",
       "3                   1869.0000      1.0    0.000080     0.00  0.000080   \n",
       "4                      0.0000      1.0    0.000291     0.00  0.000291   \n",
       "\n",
       "    int.max  int.mean         prate  proto  category  \n",
       "0  0.159526  0.002383    419.568354    6.0    Normal  \n",
       "1  0.050493  0.050493     19.804725    6.0    Normal  \n",
       "2  0.000652  0.000652   1533.742331    6.0    Normal  \n",
       "3  0.000080  0.000080  12500.000000    6.0    Normal  \n",
       "4  0.000291  0.000291   3436.426117    6.0    Normal  \n",
       "\n",
       "[5 rows x 58 columns]"
      ]
     },
     "execution_count": 7,
     "metadata": {},
     "output_type": "execute_result"
    }
   ],
   "source": [
    "data.head()"
   ]
  },
  {
   "cell_type": "markdown",
   "metadata": {},
   "source": [
    "    Перемешиваем данные датасета, потому что изначально в нем атаки следуют по порядку"
   ]
  },
  {
   "cell_type": "code",
   "execution_count": 8,
   "metadata": {},
   "outputs": [],
   "source": [
    "data = shuffle(data, random_state=seed_value)"
   ]
  },
  {
   "cell_type": "code",
   "execution_count": 9,
   "metadata": {},
   "outputs": [
    {
     "data": {
      "text/html": [
       "<div>\n",
       "<style scoped>\n",
       "    .dataframe tbody tr th:only-of-type {\n",
       "        vertical-align: middle;\n",
       "    }\n",
       "\n",
       "    .dataframe tbody tr th {\n",
       "        vertical-align: top;\n",
       "    }\n",
       "\n",
       "    .dataframe thead th {\n",
       "        text-align: right;\n",
       "    }\n",
       "</style>\n",
       "<table border=\"1\" class=\"dataframe\">\n",
       "  <thead>\n",
       "    <tr style=\"text-align: right;\">\n",
       "      <th></th>\n",
       "      <th>ip.flags.rb.mean</th>\n",
       "      <th>ip.flags.df.mean</th>\n",
       "      <th>ip.flags.mf.mean</th>\n",
       "      <th>tcp.flags.res.mean</th>\n",
       "      <th>tcp.flags.ns.mean</th>\n",
       "      <th>tcp.flags.cwr.mean</th>\n",
       "      <th>tcp.flags.ecn.mean</th>\n",
       "      <th>tcp.flags.urg.mean</th>\n",
       "      <th>tcp.flags.ack.mean</th>\n",
       "      <th>tcp.flags.push.mean</th>\n",
       "      <th>...</th>\n",
       "      <th>tcp.window_size_value.mean</th>\n",
       "      <th>count</th>\n",
       "      <th>duration</th>\n",
       "      <th>int.std</th>\n",
       "      <th>int.min</th>\n",
       "      <th>int.max</th>\n",
       "      <th>int.mean</th>\n",
       "      <th>prate</th>\n",
       "      <th>proto</th>\n",
       "      <th>category</th>\n",
       "    </tr>\n",
       "  </thead>\n",
       "  <tbody>\n",
       "    <tr>\n",
       "      <th>26877</th>\n",
       "      <td>0.0</td>\n",
       "      <td>0.0</td>\n",
       "      <td>0.0</td>\n",
       "      <td>0.0</td>\n",
       "      <td>0.0</td>\n",
       "      <td>0.0</td>\n",
       "      <td>0.0</td>\n",
       "      <td>0.0</td>\n",
       "      <td>0.0</td>\n",
       "      <td>0.0</td>\n",
       "      <td>...</td>\n",
       "      <td>8389.00</td>\n",
       "      <td>1.0</td>\n",
       "      <td>0.000072</td>\n",
       "      <td>0.000000</td>\n",
       "      <td>0.000072</td>\n",
       "      <td>0.000072</td>\n",
       "      <td>0.000072</td>\n",
       "      <td>13888.888889</td>\n",
       "      <td>6.0</td>\n",
       "      <td>SYN_Flooding</td>\n",
       "    </tr>\n",
       "    <tr>\n",
       "      <th>76170</th>\n",
       "      <td>0.0</td>\n",
       "      <td>0.0</td>\n",
       "      <td>0.0</td>\n",
       "      <td>0.0</td>\n",
       "      <td>0.0</td>\n",
       "      <td>0.0</td>\n",
       "      <td>0.0</td>\n",
       "      <td>0.0</td>\n",
       "      <td>1.0</td>\n",
       "      <td>0.0</td>\n",
       "      <td>...</td>\n",
       "      <td>4281.40</td>\n",
       "      <td>5.0</td>\n",
       "      <td>25.615609</td>\n",
       "      <td>5.847154</td>\n",
       "      <td>0.738754</td>\n",
       "      <td>16.109143</td>\n",
       "      <td>6.403902</td>\n",
       "      <td>0.156155</td>\n",
       "      <td>6.0</td>\n",
       "      <td>ACK_Flooding</td>\n",
       "    </tr>\n",
       "    <tr>\n",
       "      <th>60050</th>\n",
       "      <td>0.0</td>\n",
       "      <td>0.0</td>\n",
       "      <td>0.0</td>\n",
       "      <td>0.0</td>\n",
       "      <td>0.0</td>\n",
       "      <td>0.0</td>\n",
       "      <td>0.0</td>\n",
       "      <td>0.0</td>\n",
       "      <td>1.0</td>\n",
       "      <td>0.0</td>\n",
       "      <td>...</td>\n",
       "      <td>4645.75</td>\n",
       "      <td>4.0</td>\n",
       "      <td>20.257185</td>\n",
       "      <td>6.356553</td>\n",
       "      <td>1.295227</td>\n",
       "      <td>15.667508</td>\n",
       "      <td>6.752395</td>\n",
       "      <td>0.148096</td>\n",
       "      <td>6.0</td>\n",
       "      <td>ACK_Flooding</td>\n",
       "    </tr>\n",
       "    <tr>\n",
       "      <th>30098</th>\n",
       "      <td>0.0</td>\n",
       "      <td>0.0</td>\n",
       "      <td>0.0</td>\n",
       "      <td>0.0</td>\n",
       "      <td>0.0</td>\n",
       "      <td>0.0</td>\n",
       "      <td>0.0</td>\n",
       "      <td>0.0</td>\n",
       "      <td>0.0</td>\n",
       "      <td>0.0</td>\n",
       "      <td>...</td>\n",
       "      <td>2464.00</td>\n",
       "      <td>3.0</td>\n",
       "      <td>0.005736</td>\n",
       "      <td>0.002088</td>\n",
       "      <td>0.000780</td>\n",
       "      <td>0.004956</td>\n",
       "      <td>0.002868</td>\n",
       "      <td>348.675035</td>\n",
       "      <td>6.0</td>\n",
       "      <td>SYN_Flooding</td>\n",
       "    </tr>\n",
       "    <tr>\n",
       "      <th>67341</th>\n",
       "      <td>0.0</td>\n",
       "      <td>0.0</td>\n",
       "      <td>0.0</td>\n",
       "      <td>0.0</td>\n",
       "      <td>0.0</td>\n",
       "      <td>0.0</td>\n",
       "      <td>0.0</td>\n",
       "      <td>0.0</td>\n",
       "      <td>1.0</td>\n",
       "      <td>0.0</td>\n",
       "      <td>...</td>\n",
       "      <td>4027.00</td>\n",
       "      <td>2.0</td>\n",
       "      <td>0.176332</td>\n",
       "      <td>0.000000</td>\n",
       "      <td>0.176332</td>\n",
       "      <td>0.176332</td>\n",
       "      <td>0.176332</td>\n",
       "      <td>5.671120</td>\n",
       "      <td>6.0</td>\n",
       "      <td>ACK_Flooding</td>\n",
       "    </tr>\n",
       "  </tbody>\n",
       "</table>\n",
       "<p>5 rows × 58 columns</p>\n",
       "</div>"
      ],
      "text/plain": [
       "       ip.flags.rb.mean  ip.flags.df.mean  ip.flags.mf.mean  \\\n",
       "26877               0.0               0.0               0.0   \n",
       "76170               0.0               0.0               0.0   \n",
       "60050               0.0               0.0               0.0   \n",
       "30098               0.0               0.0               0.0   \n",
       "67341               0.0               0.0               0.0   \n",
       "\n",
       "       tcp.flags.res.mean  tcp.flags.ns.mean  tcp.flags.cwr.mean  \\\n",
       "26877                 0.0                0.0                 0.0   \n",
       "76170                 0.0                0.0                 0.0   \n",
       "60050                 0.0                0.0                 0.0   \n",
       "30098                 0.0                0.0                 0.0   \n",
       "67341                 0.0                0.0                 0.0   \n",
       "\n",
       "       tcp.flags.ecn.mean  tcp.flags.urg.mean  tcp.flags.ack.mean  \\\n",
       "26877                 0.0                 0.0                 0.0   \n",
       "76170                 0.0                 0.0                 1.0   \n",
       "60050                 0.0                 0.0                 1.0   \n",
       "30098                 0.0                 0.0                 0.0   \n",
       "67341                 0.0                 0.0                 1.0   \n",
       "\n",
       "       tcp.flags.push.mean  ...  tcp.window_size_value.mean  count   duration  \\\n",
       "26877                  0.0  ...                     8389.00    1.0   0.000072   \n",
       "76170                  0.0  ...                     4281.40    5.0  25.615609   \n",
       "60050                  0.0  ...                     4645.75    4.0  20.257185   \n",
       "30098                  0.0  ...                     2464.00    3.0   0.005736   \n",
       "67341                  0.0  ...                     4027.00    2.0   0.176332   \n",
       "\n",
       "        int.std   int.min    int.max  int.mean         prate  proto  \\\n",
       "26877  0.000000  0.000072   0.000072  0.000072  13888.888889    6.0   \n",
       "76170  5.847154  0.738754  16.109143  6.403902      0.156155    6.0   \n",
       "60050  6.356553  1.295227  15.667508  6.752395      0.148096    6.0   \n",
       "30098  0.002088  0.000780   0.004956  0.002868    348.675035    6.0   \n",
       "67341  0.000000  0.176332   0.176332  0.176332      5.671120    6.0   \n",
       "\n",
       "           category  \n",
       "26877  SYN_Flooding  \n",
       "76170  ACK_Flooding  \n",
       "60050  ACK_Flooding  \n",
       "30098  SYN_Flooding  \n",
       "67341  ACK_Flooding  \n",
       "\n",
       "[5 rows x 58 columns]"
      ]
     },
     "execution_count": 9,
     "metadata": {},
     "output_type": "execute_result"
    }
   ],
   "source": [
    "data.head()"
   ]
  },
  {
   "cell_type": "code",
   "execution_count": 10,
   "metadata": {
    "scrolled": false
   },
   "outputs": [
    {
     "data": {
      "text/plain": [
       "['Port_Scanning',\n",
       " 'Telnet_Bruteforce',\n",
       " 'ACK_Flooding',\n",
       " 'UDP_Flooding',\n",
       " 'HTTP_Flooding',\n",
       " 'SYN_Flooding',\n",
       " 'Normal',\n",
       " 'OS_Version_Detection']"
      ]
     },
     "execution_count": 10,
     "metadata": {},
     "output_type": "execute_result"
    }
   ],
   "source": [
    "type_attack"
   ]
  },
  {
   "cell_type": "markdown",
   "metadata": {},
   "source": [
    "    На основании атак датасета, убираем колонки, оставляя те, за которыми будем следить дальше."
   ]
  },
  {
   "cell_type": "code",
   "execution_count": 11,
   "metadata": {},
   "outputs": [],
   "source": [
    "def df_modify(df):\n",
    "    df.drop(columns=['srcport.std',\n",
    "    'dstport.std',\n",
    "    'ip.checksum.status.std',\n",
    "    'ip.checksum.status.max',\n",
    "    'ip.checksum.status.min',\n",
    "    'ip.checksum.status.mean',\n",
    "    'l4.checksum.status.std',\n",
    "    'proto',\n",
    "    'payload.print.mean',\n",
    "    'payload.std.mean',\n",
    "    'payload.mean.mean',\n",
    "    'tcp.flags.reset.mean',\n",
    "    'tcp.flags.urg.mean',\n",
    "    'tcp.flags.ecn.mean',\n",
    "    'tcp.flags.push.mean',\n",
    "    'tcp.flags.ns.mean',\n",
    "    'tcp.flags.cwr.mean',\n",
    "    'tcp.flags.res.mean',\n",
    "    'tcp.flags.fin.mean',\n",
    "    'frame.len.std',\n",
    "    'ip.ttl.std',\n",
    "    'int.std',\n",
    "    'ip.flags.rb.mean',\n",
    "    'ip.flags.mf.mean'],inplace = True)\n",
    "    return df"
   ]
  },
  {
   "cell_type": "code",
   "execution_count": 12,
   "metadata": {
    "scrolled": true
   },
   "outputs": [
    {
     "data": {
      "text/plain": [
       "Index(['ip.flags.df.mean', 'tcp.flags.ack.mean', 'tcp.flags.syn.mean',\n",
       "       'frame.len.min', 'frame.len.max', 'frame.len.mean', 'frame.len.rate',\n",
       "       'payload.min.mean', 'payload.max.mean', 'l4.checksum.status.min',\n",
       "       'l4.checksum.status.max', 'l4.checksum.status.mean', 'ip.ttl.min',\n",
       "       'ip.ttl.max', 'ip.ttl.mean', 'tcp.seq_raw.std', 'tcp.seq_raw.min',\n",
       "       'tcp.seq_raw.max', 'tcp.seq_raw.mean', 'tcp.ack_raw.std',\n",
       "       'tcp.ack_raw.min', 'tcp.ack_raw.max', 'tcp.ack_raw.mean',\n",
       "       'tcp.window_size_value.std', 'tcp.window_size_value.min',\n",
       "       'tcp.window_size_value.max', 'tcp.window_size_value.mean', 'count',\n",
       "       'duration', 'int.min', 'int.max', 'int.mean', 'prate', 'category'],\n",
       "      dtype='object')"
      ]
     },
     "metadata": {},
     "output_type": "display_data"
    }
   ],
   "source": [
    "data = df_modify(data)\n",
    "display(data.columns)"
   ]
  },
  {
   "cell_type": "markdown",
   "metadata": {},
   "source": [
    "    Усредняем количество пакетов с атаками, путем отбрасывания преобладающих атак. Это необходимо, чтобы другие атаки тоже обнаруживались, а не пропали на ее фоне.\n",
    "    Значение 0.01 было выбрано по причине того, что если взять 0,1, то отбрасываются пакеты Normal, Telnet, OS_Version, что плохо. Это значит, что коэф-т 0.1 велик. 0.001 в принципе тоже подходит."
   ]
  },
  {
   "cell_type": "code",
   "execution_count": 13,
   "metadata": {},
   "outputs": [],
   "source": [
    "mean_count = int(np.array([sum(data['category'] == cat) for cat in type_attack]).mean())\n",
    "for cat in type_attack:\n",
    "    if sum(data['category'] == cat) < mean_count * 0.001:\n",
    "        data = data.drop(index=data.loc[data['category'] == cat, :].index)\n",
    "    elif sum(data['category'] == cat) > mean_count:\n",
    "        data = data.drop(index=data.loc[data['category'] == cat, :][mean_count:].index)"
   ]
  },
  {
   "cell_type": "code",
   "execution_count": 14,
   "metadata": {},
   "outputs": [
    {
     "name": "stdout",
     "output_type": "stream",
     "text": [
      "Port_Scanning : 13845\n",
      "Telnet_Bruteforce : 163\n",
      "ACK_Flooding : 13845\n",
      "HTTP_Flooding : 3622\n",
      "SYN_Flooding : 13845\n",
      "Normal : 372\n",
      "OS_Version_Detection : 424\n",
      "Total packages : 46116\n"
     ]
    }
   ],
   "source": [
    "type_attack = num_pack_atack(data)"
   ]
  },
  {
   "cell_type": "code",
   "execution_count": 15,
   "metadata": {},
   "outputs": [],
   "source": [
    "train_data, test_data, train_labels, test_labels = train_test_split(data.drop(columns=['category']), data['category'], test_size=0.3, shuffle=False, random_state=seed_value)"
   ]
  },
  {
   "cell_type": "markdown",
   "metadata": {},
   "source": [
    "    Необходимо имена атак перевести в численное значение, т.е. назначить им метрики"
   ]
  },
  {
   "cell_type": "code",
   "execution_count": 16,
   "metadata": {},
   "outputs": [],
   "source": [
    "label_encoder = preprocessing.LabelEncoder()\n",
    "_ = label_encoder.fit(type_attack)\n",
    "train_labels = label_encoder.transform(train_labels)\n",
    "test_labels = label_encoder.transform(test_labels)"
   ]
  },
  {
   "cell_type": "code",
   "execution_count": 17,
   "metadata": {},
   "outputs": [
    {
     "data": {
      "text/plain": [
       "array(['ACK_Flooding', 'HTTP_Flooding', 'Normal', 'OS_Version_Detection',\n",
       "       'Port_Scanning', 'SYN_Flooding', 'Telnet_Bruteforce'], dtype='<U20')"
      ]
     },
     "execution_count": 17,
     "metadata": {},
     "output_type": "execute_result"
    }
   ],
   "source": [
    "label_encoder.classes_"
   ]
  },
  {
   "cell_type": "markdown",
   "metadata": {},
   "source": [
    "    Выполняем распределение - из каждого значения в наборе данных будет вычтено среднее значение, а затем разделено на стандартное отклонение всего набора данных"
   ]
  },
  {
   "cell_type": "code",
   "execution_count": 18,
   "metadata": {},
   "outputs": [],
   "source": [
    "data_scaler = preprocessing.StandardScaler()\n",
    "_ = data_scaler.fit(train_data)"
   ]
  },
  {
   "cell_type": "code",
   "execution_count": 19,
   "metadata": {},
   "outputs": [],
   "source": [
    "def prepare(data: pd.DataFrame, scaler):\n",
    "    X = scaler.transform(data)\n",
    "    return X\n",
    "\n",
    "def define_metrics(y_test, y_predicted, y_predicted_proba):  \n",
    "    # точность(precision)\n",
    "    precision = metrics.precision_score(y_test, y_predicted, pos_label=None, average='weighted')             \n",
    "    # Полнота (recall)\n",
    "    recall = metrics.recall_score(y_test, y_predicted, pos_label=None, average='weighted') \n",
    "    # F-мера - среднее точности и полноты\n",
    "    f1 = metrics.f1_score(y_test, y_predicted, pos_label=None, average='weighted')    \n",
    "    # Accuracy – доля правильных ответов алгоритма\n",
    "    accuracy = metrics.accuracy_score(y_test, y_predicted)\n",
    "    #Коэффициент корреляции Мэтьюза: +1 представляет идеальное предсказание, \n",
    "    # 0 - среднее случайное предсказание и -1 - обратное предсказание. \n",
    "    matthews_corrcoef = metrics.matthews_corrcoef(y_test, y_predicted)\n",
    "    try:\n",
    "        #Вычислить площадь под кривой рабочих характеристик приемника (ROC AUC) по оценкам прогнозов.\n",
    "        roc_auc_ovr = metrics.roc_auc_score(y_test, y_predicted_proba, average='weighted', multi_class='ovr')\n",
    "    except ValueError:\n",
    "        roc_auc_ovr = '-'\n",
    "    \n",
    "    try:\n",
    "        #Функция правдоподобия отвечает на вопрос:«Насколько вероятным, по мнению модели,\n",
    "        #  был фактически наблюдаемый набор результатов»\n",
    "        log_loss = metrics.log_loss(y_test, y_predicted_proba)\n",
    "    except ValueError:\n",
    "        log_loss = '-'\n",
    "    \n",
    "    return ['Accuracy', 'Precision', 'Recall', 'F-score', 'MСС', 'ROC AUC', 'Log Loss'], \\\n",
    "           [accuracy,    precision,   recall,   f1,    matthews_corrcoef,    roc_auc_ovr, log_loss]\n",
    "\n",
    "def plot_confusion_matrix(cm, classes, normalize=False, title='Error matrix', cmap=plt.cm.winter):\n",
    "    if normalize:\n",
    "        cm = cm.astype('float') / cm.sum(axis=1)[:, np.newaxis]\n",
    "    for i, j in itertools.product(range(cm.shape[0]), range(cm.shape[1])):\n",
    "        if np.isnan(cm[i, j]):\n",
    "            cm[i, j] = 0.0\n",
    "    plt.imshow(cm, interpolation='nearest', cmap=cmap)\n",
    "    plt.title(title, fontsize=20)\n",
    "    #plt.colorbar()\n",
    "    tick_marks = np.arange(len(classes))\n",
    "    plt.xticks(tick_marks, classes, fontsize=12, rotation=45)\n",
    "    plt.yticks(tick_marks, classes, fontsize=12)\n",
    "    \n",
    "    fmt = '.2f' if normalize else 'd'\n",
    "    thresh = cm.max() / 2.\n",
    "\n",
    "    for i, j in itertools.product(range(cm.shape[0]), range(cm.shape[1])):\n",
    "        plt.text(j, i, format(cm[i, j], fmt), horizontalalignment=\"center\", \n",
    "                 color=\"white\" if cm[i, j] < thresh else \"black\", fontsize=14)\n",
    "    \n",
    "    plt.tight_layout()\n",
    "    plt.ylabel('True', fontsize=20)\n",
    "    plt.xlabel('Predicted', fontsize=20)\n",
    "\n",
    "    return plt\n",
    "\n",
    "def merge(y_predicted_proba, y_test):\n",
    "    norm_ind = list(label_encoder.transform(['Normal']))[0]\n",
    "    y_test_2 = [0 if x == norm_ind else 1 for x in y_test]\n",
    "    y_predicted_counts_2 = [[x[norm_ind], sum(x) - x[norm_ind]] for x in y_predicted_proba]\n",
    "    return y_predicted_counts_2, y_test_2\n",
    "\n",
    "def print_stats(y_predicted_counts_proba_, y_test_, encoder, atk_norm=False):\n",
    "    if atk_norm:\n",
    "        y_predicted_counts_proba, y_test, = merge(y_predicted_counts_proba_, y_test_)\n",
    "    else:\n",
    "        y_predicted_counts_proba, y_test = y_predicted_counts_proba_, y_test_\n",
    "    \n",
    "    y_predicted_counts = np.array(y_predicted_counts_proba).argmax(axis=-1)\n",
    "    keys, vals = define_metrics(y_test, y_predicted_counts, y_predicted_counts_proba)\n",
    "    stats = pd.DataFrame([[round(x, 3) if not type(x) == str else x for x in vals]], columns=keys, index=['    '])\n",
    "    display(stats)\n",
    "    \n",
    "    fig_scale = 0.6 if atk_norm else 0.9\n",
    "    # В одной строке разместим 2 графика (график, табл)\n",
    "    fig, axs = plt.subplots(nrows=1, ncols=2, figsize=[int(fig_scale * x) for x in (16, 7)])\n",
    "    # ROC\n",
    "    _ = skplt.metrics.plot_roc(y_test, y_predicted_counts_proba, figsize=(int(14*0.7), int(10*0.7)), plot_micro=False, plot_macro=False, ax=axs[0])\n",
    "    \n",
    "    if atk_norm:\n",
    "        cm = metrics.confusion_matrix(y_test, y_predicted_counts, [0, 1])\n",
    "        _ = plot_confusion_matrix(cm, ['Normal', 'Fraud'], normalize=True, title='Error matrix')\n",
    "    else:\n",
    "        cm = metrics.confusion_matrix(y_test, y_predicted_counts, encoder.transform(encoder.classes_))\n",
    "        _ = plot_confusion_matrix(cm, encoder.classes_, normalize=True, title='Error matrix')\n",
    "    plt.show()\n",
    "    \n",
    "    return stats"
   ]
  },
  {
   "cell_type": "code",
   "execution_count": 20,
   "metadata": {},
   "outputs": [],
   "source": [
    "TIME = list()\n",
    "\n",
    "def t_start() -> float:\n",
    "    return time.process_time()\n",
    "\n",
    "def t_end(msg: str, start: float) -> None:\n",
    "    global TIME\n",
    "    interval = time.process_time() - start\n",
    "    print('{:32} : {:2.3f} s'.format(msg, interval))\n",
    "    TIME.append([msg, interval])"
   ]
  },
  {
   "cell_type": "markdown",
   "metadata": {},
   "source": [
    "    Построение модели многослойного перцептрона. Параметры:\n",
    "        - Кол-во входных нейронов на входе: число колонок датасета\n",
    "        - 1 скрытый слой: 512 нейронов\n",
    "        - 2 скрытый слой: 136 нейронов\n",
    "        - 3 скрытый слой: 64 нейрона\n",
    "        - Выходной слой: число атак (7)"
   ]
  },
  {
   "cell_type": "code",
   "execution_count": 21,
   "metadata": {},
   "outputs": [],
   "source": [
    "def build_perceptron_model(in_dim: int, out_dim: int):\n",
    "    model = keras.Sequential()\n",
    "    model.add(keras.layers.Dense(512, activation='tanh', input_dim=in_dim))\n",
    "    #model.add(keras.layers.Dropout(0.2))\n",
    "    model.add(keras.layers.Dense(136, activation='sigmoid'))\n",
    "    model.add(keras.layers.Dense(64, activation='relu'))\n",
    "    #model.add(keras.layers.Dropout(0.01))\n",
    "    model.add(keras.layers.Dense(out_dim, activation='softmax'))\n",
    "\n",
    "    adam = keras.optimizers.Adam(beta_1=0.9, beta_2=0.999, epsilon=1e-08, decay=0.0)\n",
    "    model.compile(loss='sparse_categorical_crossentropy', optimizer='Adam', metrics=['accuracy'])\n",
    "    return model"
   ]
  },
  {
   "cell_type": "markdown",
   "metadata": {},
   "source": [
    "    •\tПрименяем раннюю остановку, чтобы минимизировать потери. Отслеживаемая метрика - \"loss\". Если в течении заданного количества эпох (patience=5) улучшения не будет, то обучение остановится.\n",
    "    •\tКоличество эпох – 100.\n",
    "    •\tЧисло отсчетов на пакет вычислений – 96.\n"
   ]
  },
  {
   "cell_type": "code",
   "execution_count": 62,
   "metadata": {},
   "outputs": [
    {
     "name": "stdout",
     "output_type": "stream",
     "text": [
      "Epoch 1/100\n",
      "253/253 [==============================] - 1s 2ms/step - loss: 0.2797 - accuracy: 0.9280\n",
      "Epoch 2/100\n",
      "253/253 [==============================] - 1s 2ms/step - loss: 0.0117 - accuracy: 0.9969\n",
      "Epoch 3/100\n",
      "253/253 [==============================] - 1s 2ms/step - loss: 0.0071 - accuracy: 0.9981\n",
      "Epoch 4/100\n",
      "253/253 [==============================] - 1s 2ms/step - loss: 0.0033 - accuracy: 0.9991\n",
      "Epoch 5/100\n",
      "253/253 [==============================] - 1s 2ms/step - loss: 0.0037 - accuracy: 0.9991\n",
      "Epoch 6/100\n",
      "253/253 [==============================] - 1s 2ms/step - loss: 0.0025 - accuracy: 0.9994\n",
      "Epoch 7/100\n",
      "253/253 [==============================] - 1s 2ms/step - loss: 0.0022 - accuracy: 0.9993\n",
      "Epoch 8/100\n",
      "253/253 [==============================] - 0s 2ms/step - loss: 0.0023 - accuracy: 0.9994\n",
      "Epoch 9/100\n",
      "253/253 [==============================] - 1s 2ms/step - loss: 0.0026 - accuracy: 0.9995\n",
      "Epoch 10/100\n",
      "253/253 [==============================] - 1s 2ms/step - loss: 0.0010 - accuracy: 0.9998\n",
      "Epoch 11/100\n",
      "253/253 [==============================] - 1s 2ms/step - loss: 0.0016 - accuracy: 0.9997\n",
      "Epoch 12/100\n",
      "253/253 [==============================] - 1s 2ms/step - loss: 0.0025 - accuracy: 0.9994\n",
      "Epoch 13/100\n",
      "253/253 [==============================] - 0s 2ms/step - loss: 0.0022 - accuracy: 0.9994\n",
      "Epoch 14/100\n",
      "253/253 [==============================] - 1s 2ms/step - loss: 0.0011 - accuracy: 0.9997\n",
      "Epoch 15/100\n",
      "253/253 [==============================] - 1s 2ms/step - loss: 0.0016 - accuracy: 0.9996\n",
      "Epoch 16/100\n",
      "253/253 [==============================] - 0s 2ms/step - loss: 0.0016 - accuracy: 0.9996\n",
      "Epoch 17/100\n",
      "253/253 [==============================] - 1s 2ms/step - loss: 0.0019 - accuracy: 0.9995\n",
      "Epoch 18/100\n",
      "253/253 [==============================] - 1s 2ms/step - loss: 0.0026 - accuracy: 0.9994\n",
      "Epoch 19/100\n",
      "253/253 [==============================] - 1s 2ms/step - loss: 0.0027 - accuracy: 0.9994\n",
      "Multilayer Perceptron traning time : 16.641 s\n"
     ]
    }
   ],
   "source": [
    "early_stop = keras.callbacks.EarlyStopping(monitor='loss', patience=3)\n",
    "perceptron_model = build_perceptron_model(len(train_data.columns), len(label_encoder.classes_))\n",
    "try:\n",
    "    t = t_start()\n",
    "    per = perceptron_model.fit(prepare(train_data, data_scaler), train_labels,\n",
    "                            epochs=100,\n",
    "                            batch_size=128, \n",
    "                            callbacks=[early_stop])\n",
    "finally:\n",
    "    t_end('Multilayer Perceptron traning time', t)"
   ]
  },
  {
   "cell_type": "code",
   "execution_count": 63,
   "metadata": {},
   "outputs": [
    {
     "name": "stdout",
     "output_type": "stream",
     "text": [
      "Multilayer Perceptron Runtime    : 0.203 s\n"
     ]
    }
   ],
   "source": [
    "t = t_start()\n",
    "perceptron_test_predicts = perceptron_model.predict(prepare(test_data, data_scaler), batch_size=128)\n",
    "t_end('Multilayer Perceptron Runtime', t)"
   ]
  },
  {
   "cell_type": "markdown",
   "metadata": {},
   "source": [
    "    Oценкa уже обученной модели с использованием данных тестирования и соответствующих меток. Возвращает значение потерь и значения метрик для модели.\n"
   ]
  },
  {
   "cell_type": "code",
   "execution_count": 64,
   "metadata": {},
   "outputs": [
    {
     "name": "stdout",
     "output_type": "stream",
     "text": [
      "1009/1009 [==============================] - 1s 779us/step - loss: 0.0012 - accuracy: 0.9997\n"
     ]
    },
    {
     "data": {
      "text/plain": [
       "[0.001212883973494172, 0.9996902346611023]"
      ]
     },
     "execution_count": 64,
     "metadata": {},
     "output_type": "execute_result"
    }
   ],
   "source": [
    "perceptron_model.evaluate(prepare(train_data, data_scaler), train_labels)"
   ]
  },
  {
   "cell_type": "code",
   "execution_count": 65,
   "metadata": {},
   "outputs": [
    {
     "name": "stdout",
     "output_type": "stream",
     "text": [
      "Multilayer Perceptron Predict    : 0.344 s\n"
     ]
    },
    {
     "data": {
      "text/html": [
       "<div>\n",
       "<style scoped>\n",
       "    .dataframe tbody tr th:only-of-type {\n",
       "        vertical-align: middle;\n",
       "    }\n",
       "\n",
       "    .dataframe tbody tr th {\n",
       "        vertical-align: top;\n",
       "    }\n",
       "\n",
       "    .dataframe thead th {\n",
       "        text-align: right;\n",
       "    }\n",
       "</style>\n",
       "<table border=\"1\" class=\"dataframe\">\n",
       "  <thead>\n",
       "    <tr style=\"text-align: right;\">\n",
       "      <th></th>\n",
       "      <th>Accuracy</th>\n",
       "      <th>Precision</th>\n",
       "      <th>Recall</th>\n",
       "      <th>F-score</th>\n",
       "      <th>MСС</th>\n",
       "      <th>ROC AUC</th>\n",
       "      <th>Log Loss</th>\n",
       "    </tr>\n",
       "  </thead>\n",
       "  <tbody>\n",
       "    <tr>\n",
       "      <th></th>\n",
       "      <td>0.999</td>\n",
       "      <td>0.999</td>\n",
       "      <td>0.999</td>\n",
       "      <td>0.999</td>\n",
       "      <td>0.956</td>\n",
       "      <td>-</td>\n",
       "      <td>0.006</td>\n",
       "    </tr>\n",
       "  </tbody>\n",
       "</table>\n",
       "</div>"
      ],
      "text/plain": [
       "      Accuracy  Precision  Recall  F-score    MСС ROC AUC  Log Loss\n",
       "         0.999      0.999   0.999    0.999  0.956       -     0.006"
      ]
     },
     "metadata": {},
     "output_type": "display_data"
    },
    {
     "data": {
      "image/png": "[encoded data removed]",
      "text/plain": [
       "<Figure size 648x288 with 2 Axes>"
      ]
     },
     "metadata": {
      "needs_background": "light"
     },
     "output_type": "display_data"
    },
    {
     "data": {
      "text/html": [
       "<div>\n",
       "<style scoped>\n",
       "    .dataframe tbody tr th:only-of-type {\n",
       "        vertical-align: middle;\n",
       "    }\n",
       "\n",
       "    .dataframe tbody tr th {\n",
       "        vertical-align: top;\n",
       "    }\n",
       "\n",
       "    .dataframe thead th {\n",
       "        text-align: right;\n",
       "    }\n",
       "</style>\n",
       "<table border=\"1\" class=\"dataframe\">\n",
       "  <thead>\n",
       "    <tr style=\"text-align: right;\">\n",
       "      <th></th>\n",
       "      <th>Accuracy</th>\n",
       "      <th>Precision</th>\n",
       "      <th>Recall</th>\n",
       "      <th>F-score</th>\n",
       "      <th>MСС</th>\n",
       "      <th>ROC AUC</th>\n",
       "      <th>Log Loss</th>\n",
       "    </tr>\n",
       "  </thead>\n",
       "  <tbody>\n",
       "    <tr>\n",
       "      <th></th>\n",
       "      <td>0.997</td>\n",
       "      <td>0.997</td>\n",
       "      <td>0.997</td>\n",
       "      <td>0.997</td>\n",
       "      <td>0.995</td>\n",
       "      <td>-</td>\n",
       "      <td>-</td>\n",
       "    </tr>\n",
       "  </tbody>\n",
       "</table>\n",
       "</div>"
      ],
      "text/plain": [
       "      Accuracy  Precision  Recall  F-score    MСС ROC AUC Log Loss\n",
       "         0.997      0.997   0.997    0.997  0.995       -        -"
      ]
     },
     "metadata": {},
     "output_type": "display_data"
    },
    {
     "data": {
      "image/png": "[encoded data removed]",
      "text/plain": [
       "<Figure size 1008x432 with 2 Axes>"
      ]
     },
     "metadata": {
      "needs_background": "light"
     },
     "output_type": "display_data"
    },
    {
     "name": "stdout",
     "output_type": "stream",
     "text": [
      "\n",
      "\n",
      "\n"
     ]
    }
   ],
   "source": [
    "bin_stats = list()\n",
    "multy_stats = list()\n",
    "t = t_start()\n",
    "if type(perceptron_model) == keras.models.Sequential:\n",
    "    test_predicts_new = perceptron_model.predict(prepare(test_data, data_scaler))\n",
    "else:\n",
    "    test_predicts_new = perceptron_model.predict_proba(prepare(test_data, data_scaler))\n",
    "t_end('Multilayer Perceptron Predict', t)\n",
    "bin_stats.append([ print_stats(test_predicts_new, test_labels, label_encoder, atk_norm=True)])\n",
    "multy_stats.append([ print_stats(test_predicts_new, test_labels, label_encoder, atk_norm=False)])\n",
    "print('\\n\\n')"
   ]
  },
  {
   "cell_type": "markdown",
   "metadata": {},
   "source": [
    "    Загрузка тестового даасета"
   ]
  },
  {
   "cell_type": "code",
   "execution_count": 66,
   "metadata": {},
   "outputs": [
    {
     "name": "stdout",
     "output_type": "stream",
     "text": [
      "Port_Scanning : 2001\n",
      "Telnet_Bruteforce : 21\n",
      "ACK_Flooding : 9614\n",
      "UDP_Flooding : 1\n",
      "HTTP_Flooding : 294\n",
      "SYN_Flooding : 17530\n",
      "Normal : 1640\n",
      "OS_Version_Detection : 46\n",
      "Total packages : 31147\n",
      "\n"
     ]
    }
   ],
   "source": [
    "data_new, type_attack_new = load_dataset(new_packets)"
   ]
  },
  {
   "cell_type": "code",
   "execution_count": 67,
   "metadata": {},
   "outputs": [
    {
     "name": "stdout",
     "output_type": "stream",
     "text": [
      "Port_Scanning : 2001\n",
      "Telnet_Bruteforce : 21\n",
      "ACK_Flooding : 4449\n",
      "HTTP_Flooding : 294\n",
      "SYN_Flooding : 4449\n",
      "Normal : 1640\n",
      "OS_Version_Detection : 46\n",
      "Total packages : 12900\n"
     ]
    }
   ],
   "source": [
    "for cat in type_attack_new:\n",
    "    if cat not in type_attack:\n",
    "        data_new = data_new.drop(index=data_new.loc[data_new['category'] == cat, :].index)\n",
    "type_attack_new = type_attack\n",
    "\n",
    "data_new = shuffle(data_new, random_state=seed_value)\n",
    "\n",
    "mean_count = int(np.array([sum(data_new['category'] == cat) for cat in type_attack_new]).mean())\n",
    "\n",
    "for cat in type_attack:\n",
    "    if sum(data_new['category'] == cat) > mean_count:\n",
    "        data_new = data_new.drop(index=data_new.loc[data_new['category'] == cat, :][mean_count:].index)\n",
    "type_attack_new = num_pack_atack(data_new)\n",
    "\n",
    "test_data_new, test_labels_new = data_new.drop(columns=['category']), data_new['category']"
   ]
  },
  {
   "cell_type": "code",
   "execution_count": 68,
   "metadata": {},
   "outputs": [],
   "source": [
    "test_labels_new = label_encoder.transform(test_labels_new)"
   ]
  },
  {
   "cell_type": "code",
   "execution_count": 69,
   "metadata": {},
   "outputs": [],
   "source": [
    "test_data_new = test_data_new[train_data.columns]"
   ]
  },
  {
   "cell_type": "code",
   "execution_count": 70,
   "metadata": {},
   "outputs": [],
   "source": [
    "perceptron_model.compile(loss='sparse_categorical_crossentropy', optimizer='Adam', metrics=['accuracy'])"
   ]
  },
  {
   "cell_type": "code",
   "execution_count": 71,
   "metadata": {},
   "outputs": [
    {
     "name": "stdout",
     "output_type": "stream",
     "text": [
      "Multilayer Perceptron Predict    : 0.312 s\n"
     ]
    },
    {
     "data": {
      "text/html": [
       "<div>\n",
       "<style scoped>\n",
       "    .dataframe tbody tr th:only-of-type {\n",
       "        vertical-align: middle;\n",
       "    }\n",
       "\n",
       "    .dataframe tbody tr th {\n",
       "        vertical-align: top;\n",
       "    }\n",
       "\n",
       "    .dataframe thead th {\n",
       "        text-align: right;\n",
       "    }\n",
       "</style>\n",
       "<table border=\"1\" class=\"dataframe\">\n",
       "  <thead>\n",
       "    <tr style=\"text-align: right;\">\n",
       "      <th></th>\n",
       "      <th>Accuracy</th>\n",
       "      <th>Precision</th>\n",
       "      <th>Recall</th>\n",
       "      <th>F-score</th>\n",
       "      <th>MСС</th>\n",
       "      <th>ROC AUC</th>\n",
       "      <th>Log Loss</th>\n",
       "    </tr>\n",
       "  </thead>\n",
       "  <tbody>\n",
       "    <tr>\n",
       "      <th></th>\n",
       "      <td>0.989</td>\n",
       "      <td>0.989</td>\n",
       "      <td>0.989</td>\n",
       "      <td>0.989</td>\n",
       "      <td>0.95</td>\n",
       "      <td>-</td>\n",
       "      <td>0.069</td>\n",
       "    </tr>\n",
       "  </tbody>\n",
       "</table>\n",
       "</div>"
      ],
      "text/plain": [
       "      Accuracy  Precision  Recall  F-score   MСС ROC AUC  Log Loss\n",
       "         0.989      0.989   0.989    0.989  0.95       -     0.069"
      ]
     },
     "metadata": {},
     "output_type": "display_data"
    },
    {
     "data": {
      "image/png": "[encoded data removed]",
      "text/plain": [
       "<Figure size 648x288 with 2 Axes>"
      ]
     },
     "metadata": {
      "needs_background": "light"
     },
     "output_type": "display_data"
    },
    {
     "data": {
      "text/html": [
       "<div>\n",
       "<style scoped>\n",
       "    .dataframe tbody tr th:only-of-type {\n",
       "        vertical-align: middle;\n",
       "    }\n",
       "\n",
       "    .dataframe tbody tr th {\n",
       "        vertical-align: top;\n",
       "    }\n",
       "\n",
       "    .dataframe thead th {\n",
       "        text-align: right;\n",
       "    }\n",
       "</style>\n",
       "<table border=\"1\" class=\"dataframe\">\n",
       "  <thead>\n",
       "    <tr style=\"text-align: right;\">\n",
       "      <th></th>\n",
       "      <th>Accuracy</th>\n",
       "      <th>Precision</th>\n",
       "      <th>Recall</th>\n",
       "      <th>F-score</th>\n",
       "      <th>MСС</th>\n",
       "      <th>ROC AUC</th>\n",
       "      <th>Log Loss</th>\n",
       "    </tr>\n",
       "  </thead>\n",
       "  <tbody>\n",
       "    <tr>\n",
       "      <th></th>\n",
       "      <td>0.816</td>\n",
       "      <td>0.912</td>\n",
       "      <td>0.816</td>\n",
       "      <td>0.83</td>\n",
       "      <td>0.779</td>\n",
       "      <td>0.947</td>\n",
       "      <td>1.546</td>\n",
       "    </tr>\n",
       "  </tbody>\n",
       "</table>\n",
       "</div>"
      ],
      "text/plain": [
       "      Accuracy  Precision  Recall  F-score    MСС  ROC AUC  Log Loss\n",
       "         0.816      0.912   0.816     0.83  0.779    0.947     1.546"
      ]
     },
     "metadata": {},
     "output_type": "display_data"
    },
    {
     "data": {
      "image/png": "[encoded data removed]",
      "text/plain": [
       "<Figure size 1008x432 with 2 Axes>"
      ]
     },
     "metadata": {
      "needs_background": "light"
     },
     "output_type": "display_data"
    },
    {
     "name": "stdout",
     "output_type": "stream",
     "text": [
      "\n",
      "\n",
      "\n"
     ]
    }
   ],
   "source": [
    "t = t_start()\n",
    "if type(perceptron_model) == keras.models.Sequential:\n",
    "    test_predicts_new = perceptron_model.predict(prepare(test_data_new, data_scaler))\n",
    "else:\n",
    "    test_predicts_new = perceptron_model.predict_proba(prepare(test_data_new, data_scaler))\n",
    "t_end('Multilayer Perceptron Predict', t)\n",
    "bin_stats.append([ print_stats(test_predicts_new, test_labels_new, label_encoder, atk_norm=True)])\n",
    "multy_stats.append([ print_stats(test_predicts_new, test_labels_new, label_encoder, atk_norm=False)])\n",
    "print('\\n\\n')"
   ]
  },
  {
   "cell_type": "code",
   "execution_count": null,
   "metadata": {},
   "outputs": [],
   "source": []
  },
  {
   "cell_type": "code",
   "execution_count": null,
   "metadata": {},
   "outputs": [],
   "source": []
  }
 ],
 "metadata": {
  "kernelspec": {
   "display_name": "Python 3",
   "language": "python",
   "name": "python3"
  },
  "language_info": {
   "codemirror_mode": {
    "name": "ipython",
    "version": 3
   },
   "file_extension": ".py",
   "mimetype": "text/x-python",
   "name": "python",
   "nbconvert_exporter": "python",
   "pygments_lexer": "ipython3",
   "version": "3.8.0"
  }
 },
 "nbformat": 4,
 "nbformat_minor": 4
}
